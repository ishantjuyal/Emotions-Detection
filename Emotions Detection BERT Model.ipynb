{
  "nbformat": 4,
  "nbformat_minor": 0,
  "metadata": {
    "kernelspec": {
      "display_name": "Python 3",
      "language": "python",
      "name": "python3"
    },
    "language_info": {
      "codemirror_mode": {
        "name": "ipython",
        "version": 3
      },
      "file_extension": ".py",
      "mimetype": "text/x-python",
      "name": "python",
      "nbconvert_exporter": "python",
      "pygments_lexer": "ipython3",
      "version": "3.8.3"
    },
    "colab": {
      "name": "Emotions Detection BERT Model.ipynb",
      "provenance": [],
      "collapsed_sections": []
    },
    "accelerator": "GPU"
  },
  "cells": [
    {
      "cell_type": "code",
      "metadata": {
        "id": "5ufaO84dyZug"
      },
      "source": [
        "!pip install ktrain"
      ],
      "execution_count": null,
      "outputs": []
    },
    {
      "cell_type": "code",
      "metadata": {
        "id": "fnPLPV7uyKPQ"
      },
      "source": [
        "import matplotlib.pyplot as plt\n",
        "import tensorflow as tf\n",
        "from ktrain import text\n",
        "import pandas as pd\n",
        "import numpy as np\n",
        "import ktrain\n",
        "import nltk\n",
        "import re"
      ],
      "execution_count": 2,
      "outputs": []
    },
    {
      "cell_type": "code",
      "metadata": {
        "id": "seb6cl83Tbq5"
      },
      "source": [
        "train = pd.read_csv(\"https://raw.githubusercontent.com/ishantjuyal/Emotions-Detection/main/Data/Emotion_final.csv\")"
      ],
      "execution_count": 3,
      "outputs": []
    },
    {
      "cell_type": "code",
      "metadata": {
        "id": "FZyFwlDJyKPv",
        "colab": {
          "base_uri": "https://localhost:8080/",
          "height": 212
        },
        "outputId": "63841365-b866-462e-8d10-f8764f2010b3"
      },
      "source": [
        "print(\"Shape of train is\", train.shape)\n",
        "train.head()"
      ],
      "execution_count": 4,
      "outputs": [
        {
          "output_type": "stream",
          "text": [
            "Shape of train is (21459, 2)\n"
          ],
          "name": "stdout"
        },
        {
          "output_type": "execute_result",
          "data": {
            "text/html": [
              "<div>\n",
              "<style scoped>\n",
              "    .dataframe tbody tr th:only-of-type {\n",
              "        vertical-align: middle;\n",
              "    }\n",
              "\n",
              "    .dataframe tbody tr th {\n",
              "        vertical-align: top;\n",
              "    }\n",
              "\n",
              "    .dataframe thead th {\n",
              "        text-align: right;\n",
              "    }\n",
              "</style>\n",
              "<table border=\"1\" class=\"dataframe\">\n",
              "  <thead>\n",
              "    <tr style=\"text-align: right;\">\n",
              "      <th></th>\n",
              "      <th>Text</th>\n",
              "      <th>Emotion</th>\n",
              "    </tr>\n",
              "  </thead>\n",
              "  <tbody>\n",
              "    <tr>\n",
              "      <th>0</th>\n",
              "      <td>i didnt feel humiliated</td>\n",
              "      <td>sadness</td>\n",
              "    </tr>\n",
              "    <tr>\n",
              "      <th>1</th>\n",
              "      <td>i can go from feeling so hopeless to so damned...</td>\n",
              "      <td>sadness</td>\n",
              "    </tr>\n",
              "    <tr>\n",
              "      <th>2</th>\n",
              "      <td>im grabbing a minute to post i feel greedy wrong</td>\n",
              "      <td>anger</td>\n",
              "    </tr>\n",
              "    <tr>\n",
              "      <th>3</th>\n",
              "      <td>i am ever feeling nostalgic about the fireplac...</td>\n",
              "      <td>love</td>\n",
              "    </tr>\n",
              "    <tr>\n",
              "      <th>4</th>\n",
              "      <td>i am feeling grouchy</td>\n",
              "      <td>anger</td>\n",
              "    </tr>\n",
              "  </tbody>\n",
              "</table>\n",
              "</div>"
            ],
            "text/plain": [
              "                                                Text  Emotion\n",
              "0                            i didnt feel humiliated  sadness\n",
              "1  i can go from feeling so hopeless to so damned...  sadness\n",
              "2   im grabbing a minute to post i feel greedy wrong    anger\n",
              "3  i am ever feeling nostalgic about the fireplac...     love\n",
              "4                               i am feeling grouchy    anger"
            ]
          },
          "metadata": {
            "tags": []
          },
          "execution_count": 4
        }
      ]
    },
    {
      "cell_type": "code",
      "metadata": {
        "id": "7FAsGrd_yKP7",
        "colab": {
          "base_uri": "https://localhost:8080/",
          "height": 269
        },
        "outputId": "35065d7e-0082-42b8-e447-154ffe917b2f"
      },
      "source": [
        "(X_train, y_train), (X_test, y_test), preprocess = text.texts_from_df(train_df= train, \n",
        "                                                                      text_column = 'Text',\n",
        "                                                                      label_columns = 'Emotion',\n",
        "                                                                      maxlen = 50,\n",
        "                                                                      preprocess_mode = 'bert')"
      ],
      "execution_count": 5,
      "outputs": [
        {
          "output_type": "stream",
          "text": [
            "downloading pretrained BERT model (uncased_L-12_H-768_A-12.zip)...\n",
            "[██████████████████████████████████████████████████]\n",
            "extracting pretrained BERT model...\n",
            "done.\n",
            "\n",
            "cleanup downloaded zip...\n",
            "done.\n",
            "\n",
            "preprocessing train...\n",
            "language: en\n"
          ],
          "name": "stdout"
        },
        {
          "output_type": "display_data",
          "data": {
            "text/html": [
              "done."
            ],
            "text/plain": [
              "<IPython.core.display.HTML object>"
            ]
          },
          "metadata": {
            "tags": []
          }
        },
        {
          "output_type": "stream",
          "text": [
            "Is Multi-Label? False\n",
            "preprocessing test...\n",
            "language: en\n"
          ],
          "name": "stdout"
        },
        {
          "output_type": "display_data",
          "data": {
            "text/html": [
              "done."
            ],
            "text/plain": [
              "<IPython.core.display.HTML object>"
            ]
          },
          "metadata": {
            "tags": []
          }
        }
      ]
    },
    {
      "cell_type": "code",
      "metadata": {
        "id": "PpaCs0rryKQM",
        "colab": {
          "base_uri": "https://localhost:8080/"
        },
        "outputId": "b5f4c67c-f4a9-4f82-e6a9-1196e553a4a2"
      },
      "source": [
        "model = text.text_classifier(name= 'bert',\n",
        "                             train_data= (X_train, y_train),\n",
        "                             preproc = preprocess)"
      ],
      "execution_count": 6,
      "outputs": [
        {
          "output_type": "stream",
          "text": [
            "Is Multi-Label? False\n",
            "maxlen is 50\n",
            "done.\n"
          ],
          "name": "stdout"
        }
      ]
    },
    {
      "cell_type": "code",
      "metadata": {
        "id": "YB38ZV2KyKQV"
      },
      "source": [
        "# Get Learning Rate\n",
        "learner = ktrain.get_learner(model = model,\n",
        "                             train_data = (X_train, y_train),\n",
        "                             val_data = (X_test, y_test),\n",
        "                             batch_size = 32)"
      ],
      "execution_count": 7,
      "outputs": []
    },
    {
      "cell_type": "code",
      "metadata": {
        "id": "59JlgAa-yKQb",
        "colab": {
          "base_uri": "https://localhost:8080/"
        },
        "outputId": "72a68c46-9bf5-421c-ec72-05167b130a25"
      },
      "source": [
        "learner.fit_onecycle(lr = 2e-5, epochs = 1)"
      ],
      "execution_count": 8,
      "outputs": [
        {
          "output_type": "stream",
          "text": [
            "\n",
            "\n",
            "begin training using onecycle policy with max lr of 2e-05...\n",
            "604/604 [==============================] - 334s 552ms/step - loss: 0.8173 - accuracy: 0.6921 - val_loss: 0.2492 - val_accuracy: 0.8984\n"
          ],
          "name": "stdout"
        },
        {
          "output_type": "execute_result",
          "data": {
            "text/plain": [
              "<tensorflow.python.keras.callbacks.History at 0x7fa7162936d8>"
            ]
          },
          "metadata": {
            "tags": []
          },
          "execution_count": 8
        }
      ]
    },
    {
      "cell_type": "code",
      "metadata": {
        "id": "J1BmM67kyKQg"
      },
      "source": [
        "predictor = ktrain.get_predictor(learner.model, preproc= preprocess)"
      ],
      "execution_count": 9,
      "outputs": []
    },
    {
      "cell_type": "code",
      "metadata": {
        "id": "yeUluiDv4Jsj"
      },
      "source": [
        "data = [\"I have really become used to this cycle where I stay happy for 14-15 days and then spend the next 5-6 days feeling worthless and feeling like doing nothing at all.These emotions are not clear, they are not the primary emotions that I face because I don’t have a clear picture of what I am feeling.I haven’t felt love, I have stopped feeling any kind of emotion and I have become numb, completely numb.This feeling of emptiness, like a void which cannot be filled now.Even when the lockdown is not there, I feel like I am in lockdown.I guess this 3 weeks cycle is my routine now until things get better and life gets back to what it was.\"]"
      ],
      "execution_count": 10,
      "outputs": []
    },
    {
      "cell_type": "code",
      "metadata": {
        "id": "xbSDO8y23qky",
        "colab": {
          "base_uri": "https://localhost:8080/",
          "height": 34
        },
        "outputId": "da8a4bc4-b0de-495f-9da6-0dd3b70f1d3d"
      },
      "source": [
        "predictor.predict(data)"
      ],
      "execution_count": 11,
      "outputs": [
        {
          "output_type": "display_data",
          "data": {
            "text/html": [
              ""
            ],
            "text/plain": [
              "<IPython.core.display.HTML object>"
            ]
          },
          "metadata": {
            "tags": []
          }
        },
        {
          "output_type": "execute_result",
          "data": {
            "text/plain": [
              "['sadness']"
            ]
          },
          "metadata": {
            "tags": []
          },
          "execution_count": 11
        }
      ]
    },
    {
      "cell_type": "code",
      "metadata": {
        "id": "gJfuqVs80-E6"
      },
      "source": [
        "data = [\"I am pretty sad and I don't have anyone to talk to.\", \n",
        "        \"I am great actually. Very happy with my life for now\",\n",
        "        \"I am really scared of what is going to happen to me now\"]"
      ],
      "execution_count": 12,
      "outputs": []
    },
    {
      "cell_type": "code",
      "metadata": {
        "id": "2rfzmrZF1UYv",
        "colab": {
          "base_uri": "https://localhost:8080/",
          "height": 34
        },
        "outputId": "6ab8538a-d686-4238-abe8-3db65bd3011b"
      },
      "source": [
        "predictor.predict(data)"
      ],
      "execution_count": 13,
      "outputs": [
        {
          "output_type": "display_data",
          "data": {
            "text/html": [
              ""
            ],
            "text/plain": [
              "<IPython.core.display.HTML object>"
            ]
          },
          "metadata": {
            "tags": []
          }
        },
        {
          "output_type": "execute_result",
          "data": {
            "text/plain": [
              "['sadness', 'happy', 'fear']"
            ]
          },
          "metadata": {
            "tags": []
          },
          "execution_count": 13
        }
      ]
    },
    {
      "cell_type": "code",
      "metadata": {
        "id": "d4oApeu9U41s"
      },
      "source": [
        "def detect(sentence):\n",
        "    data = [sentence]\n",
        "    emotion = predictor.predict(data)\n",
        "    print('You are feeling ' + emotion[0])"
      ],
      "execution_count": 14,
      "outputs": []
    },
    {
      "cell_type": "code",
      "metadata": {
        "colab": {
          "base_uri": "https://localhost:8080/",
          "height": 34
        },
        "id": "1qc6p7vEWeiR",
        "outputId": "cf5bc607-ca6d-4e4a-8714-bd0be53ecc82"
      },
      "source": [
        "detect(\"I have really become used to this cycle where I stay happy for 14-15 days and then spend the next 5-6 days feeling worthless and feeling like doing nothing at all.These emotions are not clear, they are not the primary emotions that I face because I don’t have a clear picture of what I am feeling.I haven’t felt love, I have stopped feeling any kind of emotion and I have become numb, completely numb.This feeling of emptiness, like a void which cannot be filled now.Even when the lockdown is not there, I feel like I am in lockdown.I guess this 3 weeks cycle is my routine now until things get better and life gets back to what it was.\")"
      ],
      "execution_count": 15,
      "outputs": [
        {
          "output_type": "display_data",
          "data": {
            "text/html": [
              ""
            ],
            "text/plain": [
              "<IPython.core.display.HTML object>"
            ]
          },
          "metadata": {
            "tags": []
          }
        },
        {
          "output_type": "stream",
          "text": [
            "You are feeling sadness\n"
          ],
          "name": "stdout"
        }
      ]
    },
    {
      "cell_type": "code",
      "metadata": {
        "id": "XM2OR-6kWiN4"
      },
      "source": [
        "data = np.array(train['Text'])\n",
        "y_t = np.array(train['Emotion'])"
      ],
      "execution_count": 17,
      "outputs": []
    },
    {
      "cell_type": "code",
      "metadata": {
        "id": "oZUhJ7yn5V3X"
      },
      "source": [
        "y_pred = predictor.predict(data)\n",
        "y_pred = np.array(y_pred)"
      ],
      "execution_count": null,
      "outputs": []
    },
    {
      "cell_type": "code",
      "metadata": {
        "colab": {
          "base_uri": "https://localhost:8080/"
        },
        "id": "tT_sycxT5bnt",
        "outputId": "39de3805-3f7c-4780-abb1-9e4508df8aae"
      },
      "source": [
        "from sklearn.metrics import accuracy_score\n",
        "from sklearn.metrics import confusion_matrix\n",
        "print(\"Accuracy score for test data is:\")\n",
        "print(accuracy_score(y_t, y_pred))\n",
        "print(\"\\nConfusion Matrix for test data is:\")\n",
        "print(confusion_matrix(y_t, y_pred))"
      ],
      "execution_count": 20,
      "outputs": [
        {
          "output_type": "stream",
          "text": [
            "Accuracy score for test data is:\n",
            "0.9223635770539168\n",
            "\n",
            "Confusion Matrix for test data is:\n",
            "[[2765   85   21    8  113    1]\n",
            " [  71 2301   23    4   52  201]\n",
            " [  30   26 6479  364   75   55]\n",
            " [   5    4  162 1447   22    1]\n",
            " [  82   99   61   14 6006    3]\n",
            " [  16   44   20    0    4  795]]\n"
          ],
          "name": "stdout"
        }
      ]
    },
    {
      "cell_type": "code",
      "metadata": {
        "id": "L2ftnjAO5kSH"
      },
      "source": [
        ""
      ],
      "execution_count": null,
      "outputs": []
    }
  ]
}