{
 "cells": [
  {
   "cell_type": "code",
   "execution_count": 1,
   "metadata": {},
   "outputs": [],
   "source": [
    "from tensorflow.keras.preprocessing.sequence import pad_sequences\n",
    "from keras.preprocessing.text import Tokenizer\n",
    "from sklearn.metrics import confusion_matrix\n",
    "import matplotlib.pyplot as plt\n",
    "import contractions\n",
    "import pandas as pd\n",
    "import numpy as np\n",
    "import os\n",
    "import re\n",
    "import nltk"
   ]
  },
  {
   "cell_type": "code",
   "execution_count": 2,
   "metadata": {},
   "outputs": [],
   "source": [
    "text_dict = {'text':[], 'happy':[], 'sadness':[], 'fear':[], 'anger':[], 'love':[], 'surprise':[]}\n",
    "emotions = ['happy', 'sadness', 'anger', 'fear', 'love', 'surprise']\n",
    "def read_data(url):\n",
    "    train = pd.read_csv(url)\n",
    "    for index, row in train.iterrows():\n",
    "        sentence = row['Text']\n",
    "        emotion = row['Emotion']\n",
    "        text_dict['text'].append(sentence)\n",
    "        for e in emotions:\n",
    "            if emotion == e:\n",
    "                text_dict[emotion].append(1)\n",
    "            else:\n",
    "                text_dict[e].append(0)\n",
    "    train = pd.DataFrame(text_dict)\n",
    "    return(train)"
   ]
  },
  {
   "cell_type": "code",
   "execution_count": 3,
   "metadata": {},
   "outputs": [
    {
     "data": {
      "text/html": [
       "<div>\n",
       "<style scoped>\n",
       "    .dataframe tbody tr th:only-of-type {\n",
       "        vertical-align: middle;\n",
       "    }\n",
       "\n",
       "    .dataframe tbody tr th {\n",
       "        vertical-align: top;\n",
       "    }\n",
       "\n",
       "    .dataframe thead th {\n",
       "        text-align: right;\n",
       "    }\n",
       "</style>\n",
       "<table border=\"1\" class=\"dataframe\">\n",
       "  <thead>\n",
       "    <tr style=\"text-align: right;\">\n",
       "      <th></th>\n",
       "      <th>text</th>\n",
       "      <th>happy</th>\n",
       "      <th>sadness</th>\n",
       "      <th>fear</th>\n",
       "      <th>anger</th>\n",
       "      <th>love</th>\n",
       "      <th>surprise</th>\n",
       "    </tr>\n",
       "  </thead>\n",
       "  <tbody>\n",
       "    <tr>\n",
       "      <th>0</th>\n",
       "      <td>i didnt feel humiliated</td>\n",
       "      <td>0</td>\n",
       "      <td>1</td>\n",
       "      <td>0</td>\n",
       "      <td>0</td>\n",
       "      <td>0</td>\n",
       "      <td>0</td>\n",
       "    </tr>\n",
       "    <tr>\n",
       "      <th>1</th>\n",
       "      <td>i can go from feeling so hopeless to so damned...</td>\n",
       "      <td>0</td>\n",
       "      <td>1</td>\n",
       "      <td>0</td>\n",
       "      <td>0</td>\n",
       "      <td>0</td>\n",
       "      <td>0</td>\n",
       "    </tr>\n",
       "    <tr>\n",
       "      <th>2</th>\n",
       "      <td>im grabbing a minute to post i feel greedy wrong</td>\n",
       "      <td>0</td>\n",
       "      <td>0</td>\n",
       "      <td>0</td>\n",
       "      <td>1</td>\n",
       "      <td>0</td>\n",
       "      <td>0</td>\n",
       "    </tr>\n",
       "    <tr>\n",
       "      <th>3</th>\n",
       "      <td>i am ever feeling nostalgic about the fireplac...</td>\n",
       "      <td>0</td>\n",
       "      <td>0</td>\n",
       "      <td>0</td>\n",
       "      <td>0</td>\n",
       "      <td>1</td>\n",
       "      <td>0</td>\n",
       "    </tr>\n",
       "    <tr>\n",
       "      <th>4</th>\n",
       "      <td>i am feeling grouchy</td>\n",
       "      <td>0</td>\n",
       "      <td>0</td>\n",
       "      <td>0</td>\n",
       "      <td>1</td>\n",
       "      <td>0</td>\n",
       "      <td>0</td>\n",
       "    </tr>\n",
       "  </tbody>\n",
       "</table>\n",
       "</div>"
      ],
      "text/plain": [
       "                                                text  happy  sadness  fear  \\\n",
       "0                            i didnt feel humiliated      0        1     0   \n",
       "1  i can go from feeling so hopeless to so damned...      0        1     0   \n",
       "2   im grabbing a minute to post i feel greedy wrong      0        0     0   \n",
       "3  i am ever feeling nostalgic about the fireplac...      0        0     0   \n",
       "4                               i am feeling grouchy      0        0     0   \n",
       "\n",
       "   anger  love  surprise  \n",
       "0      0     0         0  \n",
       "1      0     0         0  \n",
       "2      1     0         0  \n",
       "3      0     1         0  \n",
       "4      1     0         0  "
      ]
     },
     "execution_count": 3,
     "metadata": {},
     "output_type": "execute_result"
    }
   ],
   "source": [
    "train = read_data(\"Emotion_final.csv\")\n",
    "train.head()"
   ]
  },
  {
   "cell_type": "code",
   "execution_count": 4,
   "metadata": {},
   "outputs": [],
   "source": [
    "from nltk.corpus import stopwords\n",
    "stop_words = stopwords.words('english')\n",
    "\n",
    "from nltk.stem import WordNetLemmatizer\n",
    "lemmatizer=WordNetLemmatizer()"
   ]
  },
  {
   "cell_type": "code",
   "execution_count": 5,
   "metadata": {},
   "outputs": [],
   "source": [
    "def preprocess_dataframe(df):\n",
    "    for index, row in df.iterrows():\n",
    "        filter_sentence = ''\n",
    "        sentence = row['text']\n",
    "        sentence = contractions.fix(sentence)\n",
    "        \n",
    "        # Cleaning the sentence with regex\n",
    "        sentence = re.sub(r'[^\\w\\s]', '', sentence)\n",
    "\n",
    "        # Tokenization\n",
    "        words = nltk.word_tokenize(sentence)\n",
    "\n",
    "        # Stopwords removal\n",
    "        words = [w for w in words if not w in stop_words]\n",
    "        \n",
    "        for words in words:\n",
    "            filter_sentence = filter_sentence  + ' ' + str(lemmatizer.lemmatize(words)).lower()\n",
    "        \n",
    "        df.loc[index, 'text'] = filter_sentence\n",
    "    df = df[['text', 'happy', 'sadness', 'fear', 'anger', 'love', 'surprise']]\n",
    "    return(df)"
   ]
  },
  {
   "cell_type": "code",
   "execution_count": 6,
   "metadata": {},
   "outputs": [],
   "source": [
    "train = preprocess_dataframe(train)"
   ]
  },
  {
   "cell_type": "code",
   "execution_count": 7,
   "metadata": {},
   "outputs": [],
   "source": [
    "Y = train[['happy', 'sadness', 'fear', 'anger', 'love', 'surprise']]\n",
    "Y = np.array(Y)\n",
    "X = np.array(train['text'])"
   ]
  },
  {
   "cell_type": "code",
   "execution_count": 8,
   "metadata": {},
   "outputs": [],
   "source": [
    "tokenizer = Tokenizer()\n",
    "tokenizer.fit_on_texts(X)\n",
    "X_new = []\n",
    "for line in X:\n",
    "    token_list = tokenizer.texts_to_sequences([line])[0]\n",
    "    X_new.append(token_list)\n",
    "max_sequence_len = max(max([len(x) for x in X_new]), 50)\n",
    "input_sequences = np.array(pad_sequences(X_new, maxlen=max_sequence_len, padding='pre'))\n",
    "total_words = len(tokenizer.word_index) + 1\n",
    "X = input_sequences"
   ]
  },
  {
   "cell_type": "code",
   "execution_count": 9,
   "metadata": {},
   "outputs": [],
   "source": [
    "from sklearn.model_selection import train_test_split\n",
    "X_train, X_test, y_train, y_test = train_test_split(X, Y, test_size=0.2)"
   ]
  },
  {
   "cell_type": "code",
   "execution_count": 10,
   "metadata": {},
   "outputs": [],
   "source": [
    "from keras.layers import Embedding, Dense, LSTM, Bidirectional, Dropout, Flatten\n",
    "from keras.models import Sequential"
   ]
  },
  {
   "cell_type": "code",
   "execution_count": 11,
   "metadata": {},
   "outputs": [
    {
     "name": "stdout",
     "output_type": "stream",
     "text": [
      "Model: \"sequential\"\n",
      "_________________________________________________________________\n",
      "Layer (type)                 Output Shape              Param #   \n",
      "=================================================================\n",
      "embedding (Embedding)        (None, 50, 8)             137888    \n",
      "_________________________________________________________________\n",
      "flatten (Flatten)            (None, 400)               0         \n",
      "_________________________________________________________________\n",
      "dense (Dense)                (None, 6)                 2406      \n",
      "=================================================================\n",
      "Total params: 140,294\n",
      "Trainable params: 140,294\n",
      "Non-trainable params: 0\n",
      "_________________________________________________________________\n",
      "None\n"
     ]
    }
   ],
   "source": [
    "model = Sequential()\n",
    "model.add(Embedding(total_words, 8, input_length = X.shape[1]))\n",
    "model.add(Flatten())\n",
    "model.add(Dense(6, activation='softmax'))\n",
    "\n",
    "model.compile(loss='categorical_crossentropy', optimizer='adam', metrics='accuracy')\n",
    "print(model.summary())"
   ]
  },
  {
   "cell_type": "code",
   "execution_count": 12,
   "metadata": {},
   "outputs": [
    {
     "name": "stdout",
     "output_type": "stream",
     "text": [
      "Epoch 1/30\n",
      "537/537 [==============================] - 1s 2ms/step - loss: 1.5564 - accuracy: 0.3887\n",
      "Epoch 2/30\n",
      "537/537 [==============================] - 1s 2ms/step - loss: 1.1037 - accuracy: 0.6642\n",
      "Epoch 3/30\n",
      "537/537 [==============================] - 1s 2ms/step - loss: 0.6150 - accuracy: 0.8384\n",
      "Epoch 4/30\n",
      "537/537 [==============================] - 1s 2ms/step - loss: 0.3710 - accuracy: 0.9074\n",
      "Epoch 5/30\n",
      "537/537 [==============================] - 1s 2ms/step - loss: 0.2451 - accuracy: 0.9443\n",
      "Epoch 6/30\n",
      "537/537 [==============================] - 1s 3ms/step - loss: 0.1733 - accuracy: 0.9604\n",
      "Epoch 7/30\n",
      "537/537 [==============================] - 2s 3ms/step - loss: 0.1298 - accuracy: 0.9710\n",
      "Epoch 8/30\n",
      "537/537 [==============================] - 2s 3ms/step - loss: 0.1011 - accuracy: 0.9774\n",
      "Epoch 9/30\n",
      "537/537 [==============================] - 1s 3ms/step - loss: 0.0817 - accuracy: 0.9816\n",
      "Epoch 10/30\n",
      "537/537 [==============================] - 1s 2ms/step - loss: 0.0671 - accuracy: 0.9853\n",
      "Epoch 11/30\n",
      "537/537 [==============================] - 1s 2ms/step - loss: 0.0561 - accuracy: 0.9874\n",
      "Epoch 12/30\n",
      "537/537 [==============================] - 1s 2ms/step - loss: 0.0478 - accuracy: 0.9893\n",
      "Epoch 13/30\n",
      "537/537 [==============================] - 1s 3ms/step - loss: 0.0411 - accuracy: 0.9904\n",
      "Epoch 14/30\n",
      "537/537 [==============================] - 1s 2ms/step - loss: 0.0357 - accuracy: 0.9916\n",
      "Epoch 15/30\n",
      "537/537 [==============================] - 1s 2ms/step - loss: 0.0310 - accuracy: 0.9920\n",
      "Epoch 16/30\n",
      "537/537 [==============================] - 2s 3ms/step - loss: 0.0274 - accuracy: 0.9933\n",
      "Epoch 17/30\n",
      "537/537 [==============================] - 1s 2ms/step - loss: 0.0246 - accuracy: 0.9937\n",
      "Epoch 18/30\n",
      "537/537 [==============================] - 1s 3ms/step - loss: 0.0220 - accuracy: 0.9938\n",
      "Epoch 19/30\n",
      "537/537 [==============================] - 1s 2ms/step - loss: 0.0200 - accuracy: 0.9944\n",
      "Epoch 20/30\n",
      "537/537 [==============================] - 1s 2ms/step - loss: 0.0184 - accuracy: 0.9940\n",
      "Epoch 21/30\n",
      "537/537 [==============================] - 1s 2ms/step - loss: 0.0168 - accuracy: 0.9947\n",
      "Epoch 22/30\n",
      "537/537 [==============================] - 1s 2ms/step - loss: 0.0154 - accuracy: 0.9946\n",
      "Epoch 23/30\n",
      "537/537 [==============================] - 1s 2ms/step - loss: 0.0145 - accuracy: 0.9949\n",
      "Epoch 24/30\n",
      "537/537 [==============================] - 1s 2ms/step - loss: 0.0135 - accuracy: 0.9953\n",
      "Epoch 25/30\n",
      "537/537 [==============================] - 1s 2ms/step - loss: 0.0129 - accuracy: 0.9953\n",
      "Epoch 26/30\n",
      "537/537 [==============================] - 1s 2ms/step - loss: 0.0122 - accuracy: 0.9950\n",
      "Epoch 27/30\n",
      "537/537 [==============================] - 2s 3ms/step - loss: 0.0113 - accuracy: 0.9958\n",
      "Epoch 28/30\n",
      "537/537 [==============================] - 1s 2ms/step - loss: 0.0110 - accuracy: 0.9953\n",
      "Epoch 29/30\n",
      "537/537 [==============================] - 1s 3ms/step - loss: 0.0108 - accuracy: 0.9953\n",
      "Epoch 30/30\n",
      "537/537 [==============================] - 1s 2ms/step - loss: 0.0101 - accuracy: 0.9956\n"
     ]
    }
   ],
   "source": [
    "history = model.fit(X_train, y_train, epochs = 30)"
   ]
  },
  {
   "cell_type": "code",
   "execution_count": 13,
   "metadata": {},
   "outputs": [],
   "source": [
    "def plot_graph(history,string):\n",
    "    plt.plot(history.history[string])\n",
    "    plt.xlabel(\"Epochs\")\n",
    "    plt.ylabel(string)\n",
    "    plt.show()"
   ]
  },
  {
   "cell_type": "code",
   "execution_count": 14,
   "metadata": {},
   "outputs": [
    {
     "data": {
      "image/png": "[encoded data removed]",
      "text/plain": [
       "<Figure size 432x288 with 1 Axes>"
      ]
     },
     "metadata": {
      "needs_background": "light"
     },
     "output_type": "display_data"
    }
   ],
   "source": [
    "plot_graph(history,'accuracy')"
   ]
  },
  {
   "cell_type": "code",
   "execution_count": 15,
   "metadata": {},
   "outputs": [],
   "source": [
    "# # Save the trained model\n",
    "\n",
    "# # serialize to JSON\n",
    "# json_file = model.to_json()\n",
    "# with open(\"model.json\", \"w\") as file:\n",
    "#    file.write(json_file)\n",
    "# # serialize weights to HDF5\n",
    "# model.save_weights(\"model.h5\")"
   ]
  },
  {
   "cell_type": "code",
   "execution_count": 16,
   "metadata": {},
   "outputs": [],
   "source": [
    "# # Load the saved model\n",
    "\n",
    "# from keras.models import model_from_json\n",
    "\n",
    "# # load json and create model\n",
    "# file = open('model.json', 'r')\n",
    "# model_json = file.read()\n",
    "# file.close()\n",
    "# loaded_model = model_from_json(model_json)\n",
    "# # load weights\n",
    "# loaded_model.load_weights(\"model.h5\")"
   ]
  },
  {
   "cell_type": "code",
   "execution_count": 17,
   "metadata": {},
   "outputs": [],
   "source": [
    "def preprocess_sentence(sentence):\n",
    "    sentence = contractions.fix(sentence)\n",
    "    sentence = re.sub(r'[^\\w\\s]', '', sentence)\n",
    "    \n",
    "    words = nltk.word_tokenize(sentence)\n",
    "    words = [w for w in words if not w in stop_words]\n",
    "    \n",
    "    filter_sentence = ''\n",
    "    for words in words:\n",
    "        filter_sentence = filter_sentence  + ' ' + str(lemmatizer.lemmatize(words)).lower()\n",
    "        \n",
    "    return(filter_sentence)"
   ]
  },
  {
   "cell_type": "code",
   "execution_count": 18,
   "metadata": {},
   "outputs": [],
   "source": [
    "def detect(text):\n",
    "    text = preprocess_sentence(text)\n",
    "    token_list = tokenizer.texts_to_sequences([text])[0]\n",
    "    zeros = max(0, max_sequence_len - len(token_list))\n",
    "    token_list = [0]*zeros + token_list\n",
    "    token_list = np.array(token_list).reshape(1, max_sequence_len)\n",
    "    index = np.argmax(model.predict(token_list), axis = -1)[0]\n",
    "    \n",
    "    emotions = ['happy', 'sadness', 'fear', 'anger', 'love', 'surprise']\n",
    "    return(emotions[index])"
   ]
  },
  {
   "cell_type": "code",
   "execution_count": 19,
   "metadata": {},
   "outputs": [
    {
     "data": {
      "text/plain": [
       "'sadness'"
      ]
     },
     "execution_count": 19,
     "metadata": {},
     "output_type": "execute_result"
    }
   ],
   "source": [
    "detect(\"I feel tired, sore, and lonely. I just want somebody to hold\")"
   ]
  },
  {
   "cell_type": "code",
   "execution_count": 20,
   "metadata": {},
   "outputs": [
    {
     "data": {
      "text/plain": [
       "'happy'"
      ]
     },
     "execution_count": 20,
     "metadata": {},
     "output_type": "execute_result"
    }
   ],
   "source": [
    "detect(\"Not great. I feel suicidal and I have no one to talk to\")"
   ]
  },
  {
   "cell_type": "code",
   "execution_count": 21,
   "metadata": {},
   "outputs": [],
   "source": [
    "y_pred = np.argmax(model.predict(X_test), axis = -1)"
   ]
  },
  {
   "cell_type": "code",
   "execution_count": 22,
   "metadata": {},
   "outputs": [],
   "source": [
    "y_test = [list(i).index(1) for i in list(y_test)]\n",
    "y_test = np.array(y_test)"
   ]
  },
  {
   "cell_type": "code",
   "execution_count": 23,
   "metadata": {},
   "outputs": [
    {
     "name": "stdout",
     "output_type": "stream",
     "text": [
      "Accuracy of model on test set:\n",
      "0.8140726933830382\n",
      "\n",
      "The confusion matrix on test set\n",
      "[[1239   57   18   21   48   10]\n",
      " [  70 1065   35   38   12    3]\n",
      " [  36   57  379   30    8   22]\n",
      " [  52   64   18  491    6    2]\n",
      " [  87   17    5    9  220    1]\n",
      " [  26   17   19    9    1  100]]\n"
     ]
    }
   ],
   "source": [
    "from sklearn.metrics import accuracy_score\n",
    "from sklearn.metrics import confusion_matrix\n",
    "\n",
    "print(\"Accuracy of model on test set:\")\n",
    "print(accuracy_score(y_test, y_pred))\n",
    "print(\"\\nThe confusion matrix on test set\")\n",
    "print(confusion_matrix(y_test, y_pred))"
   ]
  },
  {
   "cell_type": "code",
   "execution_count": null,
   "metadata": {},
   "outputs": [],
   "source": []
  }
 ],
 "metadata": {
  "kernelspec": {
   "display_name": "Python 3",
   "language": "python",
   "name": "python3"
  },
  "language_info": {
   "codemirror_mode": {
    "name": "ipython",
    "version": 3
   },
   "file_extension": ".py",
   "mimetype": "text/x-python",
   "name": "python",
   "nbconvert_exporter": "python",
   "pygments_lexer": "ipython3",
   "version": "3.8.3"
  }
 },
 "nbformat": 4,
 "nbformat_minor": 4
}
